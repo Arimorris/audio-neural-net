{
 "cells": [
  {
   "cell_type": "code",
   "execution_count": 1,
   "metadata": {},
   "outputs": [
    {
     "name": "stderr",
     "output_type": "stream",
     "text": [
      "/anaconda3/lib/python3.6/site-packages/h5py/__init__.py:36: FutureWarning: Conversion of the second argument of issubdtype from `float` to `np.floating` is deprecated. In future, it will be treated as `np.float64 == np.dtype(float).type`.\n",
      "  from ._conv import register_converters as _register_converters\n",
      "Using TensorFlow backend.\n"
     ]
    }
   ],
   "source": [
    "import numpy as np # linear algebra\n",
    "import pandas as pd # data processing, CSV file I/O (e.g. pd.read_csv)\n",
    "from sklearn.model_selection import train_test_split\n",
    "from sklearn import preprocessing\n",
    "import scipy.io.wavfile as sci_wav  # Open wav files\n",
    "import os  # Manipulate files\n",
    "# import warnings  # Warning removal\n",
    "# warnings.filterwarnings('ignore')\n",
    "from pickle import dump\n",
    "from pickle import load\n",
    "from keras.callbacks import ModelCheckpoint\n",
    "from keras.models import load_model\n",
    "from keras import models\n",
    "from keras import layers"
   ]
  },
  {
   "cell_type": "code",
   "execution_count": 2,
   "metadata": {},
   "outputs": [],
   "source": [
    "ROOT_DIR = '/Users/DM/FS/mod4/proj4/audio-cats-and-dogs/cats_dogs/'\n",
    "X_path = os.listdir(ROOT_DIR)\n",
    "y = [0 if 'cat' in f else 1 for f in X_path]  # change y to int values"
   ]
  },
  {
   "cell_type": "code",
   "execution_count": 3,
   "metadata": {},
   "outputs": [
    {
     "data": {
      "text/plain": [
       "['cat_74.wav',\n",
       " 'dog_barking_63.wav',\n",
       " 'cat_60.wav',\n",
       " 'dog_barking_77.wav',\n",
       " 'cat_48.wav']"
      ]
     },
     "execution_count": 3,
     "metadata": {},
     "output_type": "execute_result"
    }
   ],
   "source": [
    "X_path[0:5]"
   ]
  },
  {
   "cell_type": "code",
   "execution_count": 4,
   "metadata": {},
   "outputs": [
    {
     "data": {
      "text/plain": [
       "[0, 1, 0, 1, 0]"
      ]
     },
     "execution_count": 4,
     "metadata": {},
     "output_type": "execute_result"
    }
   ],
   "source": [
    "y[0:5]"
   ]
  },
  {
   "cell_type": "code",
   "execution_count": 5,
   "metadata": {},
   "outputs": [],
   "source": [
    "X_train, X_val, y_train, y_val = train_test_split(X_path, y, test_size=0.25)"
   ]
  },
  {
   "cell_type": "code",
   "execution_count": 6,
   "metadata": {},
   "outputs": [
    {
     "name": "stdout",
     "output_type": "stream",
     "text": [
      "in X, there is 164 cats and 113 dogs\n",
      "in X_train, there is 122 cats and 85 dogs\n",
      "in X_val, there is 42 cats and 28 dogs\n"
     ]
    }
   ],
   "source": [
    "print(\"in X, there is {} cats and {} dogs\".format(len(y) - sum(y), sum(y)))\n",
    "print(\"in X_train, there is {} cats and {} dogs\".format(len(y_train) - sum(y_train), sum(y_train)))\n",
    "print(\"in X_val, there is {} cats and {} dogs\".format(len(y_val) - sum(y_val), sum(y_val)))"
   ]
  },
  {
   "cell_type": "code",
   "execution_count": 7,
   "metadata": {},
   "outputs": [
    {
     "name": "stdout",
     "output_type": "stream",
     "text": [
      "[array([ 124,  107,    7, ..., -545, -494, -529], dtype=int16)]\n",
      "[array([ 124,  107,    7, ..., -545, -494, -529], dtype=int16), array([-1028, -1039, -1064, ...,     6,    38,     2], dtype=int16)]\n"
     ]
    }
   ],
   "source": [
    "def read_wav_files(wav_files):\n",
    "    '''Returns a list of audio waves\n",
    "    Params:\n",
    "        wav_files: List of .wav paths\n",
    "    \n",
    "    Returns:\n",
    "        List of audio signals\n",
    "    '''\n",
    "    if not isinstance(wav_files, list):\n",
    "        wav_files = [wav_files]\n",
    "    return [sci_wav.read(ROOT_DIR + f)[1] for f in wav_files]\n",
    "\n",
    "print(read_wav_files('cat_1.wav'))\n",
    "print(read_wav_files(['cat_1.wav', 'cat_2.wav']))"
   ]
  },
  {
   "cell_type": "code",
   "execution_count": 8,
   "metadata": {},
   "outputs": [],
   "source": [
    "X_train, X_val = map(read_wav_files, [X_train, X_val])"
   ]
  },
  {
   "cell_type": "code",
   "execution_count": 9,
   "metadata": {},
   "outputs": [
    {
     "data": {
      "text/plain": [
       "[array([ -1,   0,   2, ..., 102,  53,  45], dtype=int16),\n",
       " array([402, 425, 479, ..., 369, 342, 370], dtype=int16),\n",
       " array([  0,   0,   0, ..., 770, 724, 371], dtype=int16),\n",
       " array([ 311,  119,   78, ...,  108, -102, -215], dtype=int16),\n",
       " array([  1,  11, -21, ...,  -6, -36, -19], dtype=int16)]"
      ]
     },
     "execution_count": 9,
     "metadata": {},
     "output_type": "execute_result"
    }
   ],
   "source": [
    "X_train[0:5]"
   ]
  },
  {
   "cell_type": "code",
   "execution_count": 10,
   "metadata": {},
   "outputs": [
    {
     "name": "stdout",
     "output_type": "stream",
     "text": [
      "(51420,)\n",
      "(63296,)\n",
      "(17973,)\n",
      "(77834,)\n",
      "(166347,)\n"
     ]
    }
   ],
   "source": [
    "for x in X_train[0:5]:\n",
    "    print(x.shape)"
   ]
  },
  {
   "cell_type": "code",
   "execution_count": 11,
   "metadata": {},
   "outputs": [],
   "source": [
    "ys = y_train[0:4]"
   ]
  },
  {
   "cell_type": "code",
   "execution_count": 12,
   "metadata": {},
   "outputs": [
    {
     "data": {
      "text/plain": [
       "[<matplotlib.lines.Line2D at 0x1a34214898>]"
      ]
     },
     "execution_count": 12,
     "metadata": {},
     "output_type": "execute_result"
    }
   ],
   "source": [
    "import matplotlib.pyplot as plt\n",
    "fig, axs = plt.subplots(2, 2, figsize=(16,7))\n",
    "axs[0][0].set_title(ys[0])\n",
    "axs[0][0].plot(X_train[0][5000:5500])\n",
    "axs[0][1].set_title(ys[1])\n",
    "axs[0][1].plot(X_train[1])\n",
    "axs[1][0].set_title(ys[2])\n",
    "axs[1][0].plot(X_train[2])\n",
    "axs[1][1].set_title(ys[3])\n",
    "axs[1][1].plot(X_train[3])"
   ]
  },
  {
   "cell_type": "code",
   "execution_count": 13,
   "metadata": {},
   "outputs": [],
   "source": [
    "plt.show()"
   ]
  },
  {
   "cell_type": "code",
   "execution_count": 14,
   "metadata": {},
   "outputs": [
    {
     "data": {
      "text/plain": [
       "24571"
      ]
     },
     "execution_count": 14,
     "metadata": {},
     "output_type": "execute_result"
    }
   ],
   "source": [
    "max(X_train[1])"
   ]
  },
  {
   "cell_type": "code",
   "execution_count": 15,
   "metadata": {},
   "outputs": [
    {
     "data": {
      "text/plain": [
       "array([  6785,   1030,  -8597, -12820,  -8076,  -9089,  -9095,  -1848,\n",
       "         6404,  12034,  13745,  16228,  14030,   4497,  -4830,  -6155,\n",
       "        -9280, -15879, -15067,  -8321,  -4841,   -395,   7262,  12109,\n",
       "        11555,   8528,   4511,    429,  -2337,  -6342,  -9232,  -9401,\n",
       "        -7813,  -5627,    188,   7661,  12517,  15250,  13539,   8623,\n",
       "         1558,  -3160,  -6272, -11043, -11843,  -8337,  -3730,  -1988,\n",
       "         3326,  10560], dtype=int16)"
      ]
     },
     "execution_count": 15,
     "metadata": {},
     "output_type": "execute_result"
    }
   ],
   "source": [
    "X_train[5][0:50]"
   ]
  },
  {
   "cell_type": "code",
   "execution_count": 16,
   "metadata": {},
   "outputs": [
    {
     "data": {
      "text/plain": [
       "-22359"
      ]
     },
     "execution_count": 16,
     "metadata": {},
     "output_type": "execute_result"
    }
   ],
   "source": [
    "min(X_train[1])"
   ]
  },
  {
   "cell_type": "code",
   "execution_count": 17,
   "metadata": {},
   "outputs": [],
   "source": [
    "def get_long_vectors(X, y):\n",
    "    # Create two long 1D arrays with all the audio waves concatenated one after the other\n",
    "    # (one for the cats, the other for the dogs)\n",
    "    X_cat = np.concatenate([_x for _x, _y in zip(X, y) if _y == 0])\n",
    "    X_dog = np.concatenate([_x for _x, _y in zip(X, y) if _y == 1])\n",
    "    # Apply normalization (zero mean, std = 1)\n",
    "    X_cat = preprocessing.scale(X_cat)\n",
    "    X_dog = preprocessing.scale(X_dog)\n",
    "    return X_cat, X_dog"
   ]
  },
  {
   "cell_type": "code",
   "execution_count": 18,
   "metadata": {},
   "outputs": [],
   "source": [
    "def get_next_nonsilence(_X, sample_len, idx):\n",
    "    # get a random starting point in the big array of sound values of for the correct animal\n",
    "    # but make sure it is not too close to the end to fit a whole observation.  This seems to be an \n",
    "    # augmentation strategy: since the observation starting points are random, there may be overlap\n",
    "    # among observations, but this is good: with enough epochs we'll get a big sample of randomly\n",
    "    # shifted 1-second segments.\n",
    "    x_idx = np.random.randint(len(_X) - sample_len)\n",
    "    # the following is to check whether the 1-second observation contains only low-level noise\n",
    "    # (i.e. the dog or cat is not making sound during that second).  The model should be using these\n",
    "    # in neither training nor validation sets.  Predicting \"dog\" or \"cat\" from a second of silence is\n",
    "    # not what we want the model to do.\n",
    "    silence = True\n",
    "    while silence == True:\n",
    "        if max(_X[x_idx : x_idx + sample_len]) > 0.4:\n",
    "            silence = False\n",
    "            return x_idx\n",
    "        else:\n",
    "            x_idx = np.random.randint(len(_X) - sample_len)"
   ]
  },
  {
   "cell_type": "code",
   "execution_count": 19,
   "metadata": {},
   "outputs": [],
   "source": [
    "def cats_and_dogs_gen(X = X_train, y = y_train, n_samples=20, sample_len=16000):\n",
    "# n_samples: amount of samples per batch\n",
    "# sample_len: size of the samples in a batch\n",
    "    while True:\n",
    "    # making the loop infininte so that the generator just keeps making more batches (required for keras)\n",
    "        X_cat, X_dog = get_long_vectors(X, y)\n",
    "        # find the higher of (number of cats,  number of dogs) and divide that by the batch size to get number\n",
    "        # of batches needed, then loop through this number, creating all the batches (or rather, yielding\n",
    "        # them one at a time as a generator)\n",
    "        for _ in range(int(max(sum(y), len(y) - sum(y)) / n_samples)):\n",
    "            # set up each batch\n",
    "            y_batch = np.zeros(n_samples)\n",
    "            X_batch = np.zeros((n_samples, sample_len))\n",
    "            # for each observation in batch\n",
    "            for idx in range(n_samples):\n",
    "                # alternate zeros and ones for the y value of the batch\n",
    "                y_batch[idx] = idx % 2\n",
    "                # assign a source of sound values depending on the target already set (0 or 1) for the current batch\n",
    "                _X = X_cat if y_batch[idx] == 0 else X_dog\n",
    "                x_idx = get_next_nonsilence(_X, sample_len, idx) \n",
    "                X_batch[idx] = _X[x_idx : x_idx + sample_len]\n",
    "            yield (X_batch.reshape(n_samples, sample_len, 1),\n",
    "                   y_batch.reshape(-1, 1) )"
   ]
  },
  {
   "cell_type": "code",
   "execution_count": 20,
   "metadata": {},
   "outputs": [],
   "source": [
    "# x, y = next(cats_and_dogs_gen())"
   ]
  },
  {
   "cell_type": "code",
   "execution_count": 21,
   "metadata": {},
   "outputs": [],
   "source": [
    "# x.shape"
   ]
  },
  {
   "cell_type": "code",
   "execution_count": 22,
   "metadata": {},
   "outputs": [],
   "source": [
    "# plt.plot(x[11, : ,0])\n",
    "# plt.show()"
   ]
  },
  {
   "cell_type": "code",
   "execution_count": 23,
   "metadata": {},
   "outputs": [],
   "source": [
    "# model = models.Sequential()\n",
    "# model.add(layers.Conv1D(padding = 'same', filters = 10, kernel_size = 3, strides = 2, activation = 'relu', input_shape = (16000, 1)))\n",
    "# model.add(layers.BatchNormalization())\n",
    "# for _ in range(9):\n",
    "#     model.add(layers.Conv1D(padding = 'same', filters = 10, kernel_size = 3, strides = 2, activation = 'relu',))\n",
    "#     model.add(layers.BatchNormalization())\n",
    "# model.add(layers.MaxPooling1D(pool_size=2, strides=None, padding='valid'))\n",
    "# model.add(layers.Flatten())\n",
    "# model.add(layers.Dense(1, activation = 'sigmoid'))"
   ]
  },
  {
   "cell_type": "code",
   "execution_count": 24,
   "metadata": {},
   "outputs": [],
   "source": [
    "model = load_model('audio12.h5')\n",
    "# model.load_weights(\"audio3_best.hdf5\")"
   ]
  },
  {
   "cell_type": "code",
   "execution_count": 25,
   "metadata": {},
   "outputs": [],
   "source": [
    "model.compile(optimizer='sgd',\n",
    "              loss='binary_crossentropy',\n",
    "              metrics=['accuracy'])"
   ]
  },
  {
   "cell_type": "code",
   "execution_count": 26,
   "metadata": {},
   "outputs": [],
   "source": [
    "# filepath = \"audio13_best.hdf5\"\n",
    "# checkpoint = ModelCheckpoint(filepath, monitor='val_acc', verbose=1, save_best_only=True, mode='max')\n",
    "# callbacks_list = [checkpoint]"
   ]
  },
  {
   "cell_type": "code",
   "execution_count": 27,
   "metadata": {},
   "outputs": [
    {
     "name": "stdout",
     "output_type": "stream",
     "text": [
      "_________________________________________________________________\n",
      "Layer (type)                 Output Shape              Param #   \n",
      "=================================================================\n",
      "conv1d_1 (Conv1D)            (None, 8000, 10)          40        \n",
      "_________________________________________________________________\n",
      "batch_normalization_1 (Batch (None, 8000, 10)          40        \n",
      "_________________________________________________________________\n",
      "conv1d_2 (Conv1D)            (None, 4000, 10)          310       \n",
      "_________________________________________________________________\n",
      "batch_normalization_2 (Batch (None, 4000, 10)          40        \n",
      "_________________________________________________________________\n",
      "conv1d_3 (Conv1D)            (None, 2000, 10)          310       \n",
      "_________________________________________________________________\n",
      "batch_normalization_3 (Batch (None, 2000, 10)          40        \n",
      "_________________________________________________________________\n",
      "conv1d_4 (Conv1D)            (None, 1000, 10)          310       \n",
      "_________________________________________________________________\n",
      "batch_normalization_4 (Batch (None, 1000, 10)          40        \n",
      "_________________________________________________________________\n",
      "conv1d_5 (Conv1D)            (None, 500, 10)           310       \n",
      "_________________________________________________________________\n",
      "batch_normalization_5 (Batch (None, 500, 10)           40        \n",
      "_________________________________________________________________\n",
      "conv1d_6 (Conv1D)            (None, 250, 10)           310       \n",
      "_________________________________________________________________\n",
      "batch_normalization_6 (Batch (None, 250, 10)           40        \n",
      "_________________________________________________________________\n",
      "conv1d_7 (Conv1D)            (None, 125, 10)           310       \n",
      "_________________________________________________________________\n",
      "batch_normalization_7 (Batch (None, 125, 10)           40        \n",
      "_________________________________________________________________\n",
      "conv1d_8 (Conv1D)            (None, 63, 10)            310       \n",
      "_________________________________________________________________\n",
      "batch_normalization_8 (Batch (None, 63, 10)            40        \n",
      "_________________________________________________________________\n",
      "conv1d_9 (Conv1D)            (None, 32, 10)            310       \n",
      "_________________________________________________________________\n",
      "batch_normalization_9 (Batch (None, 32, 10)            40        \n",
      "_________________________________________________________________\n",
      "conv1d_10 (Conv1D)           (None, 16, 10)            310       \n",
      "_________________________________________________________________\n",
      "batch_normalization_10 (Batc (None, 16, 10)            40        \n",
      "_________________________________________________________________\n",
      "max_pooling1d_1 (MaxPooling1 (None, 8, 10)             0         \n",
      "_________________________________________________________________\n",
      "flatten_1 (Flatten)          (None, 80)                0         \n",
      "_________________________________________________________________\n",
      "dense_1 (Dense)              (None, 1)                 81        \n",
      "=================================================================\n",
      "Total params: 3,311\n",
      "Trainable params: 3,111\n",
      "Non-trainable params: 200\n",
      "_________________________________________________________________\n"
     ]
    }
   ],
   "source": [
    "model.summary()"
   ]
  },
  {
   "cell_type": "code",
   "execution_count": 28,
   "metadata": {},
   "outputs": [],
   "source": [
    "# history = model.fit_generator(\n",
    "#       cats_and_dogs_gen(),\n",
    "#       epochs = 10, steps_per_epoch = 25, validation_steps=25,\n",
    "#       validation_data = cats_and_dogs_gen(X = X_val, y = y_val), callbacks=callbacks_list)"
   ]
  },
  {
   "cell_type": "code",
   "execution_count": 29,
   "metadata": {},
   "outputs": [],
   "source": [
    "# model.save('audio12.h5')"
   ]
  },
  {
   "cell_type": "code",
   "execution_count": 30,
   "metadata": {},
   "outputs": [],
   "source": [
    "# summarize history for accuracy\n",
    "# plt.plot(history.history['acc'])\n",
    "# plt.plot(history.history['val_acc'])\n",
    "# plt.title('model accuracy')\n",
    "# plt.ylabel('accuracy')\n",
    "# plt.xlabel('epoch')\n",
    "# plt.legend(['train', 'validation'], loc='upper left')\n",
    "# plt.show()"
   ]
  },
  {
   "cell_type": "code",
   "execution_count": 61,
   "metadata": {},
   "outputs": [],
   "source": [
    "TEST_DIR = '/Users/DM/FS/mod4/proj4/audio-cats-and-dogs/test/'\n",
    "test_path = os.listdir(TEST_DIR)\n",
    "y_test = [0 if 'cat' in f else 1 for f in test_path]  # change y to int values"
   ]
  },
  {
   "cell_type": "code",
   "execution_count": 62,
   "metadata": {},
   "outputs": [
    {
     "data": {
      "text/plain": [
       "[1, 0, 0, 1, 1, 0, 0, 1, 0, 1]"
      ]
     },
     "execution_count": 62,
     "metadata": {},
     "output_type": "execute_result"
    }
   ],
   "source": [
    "y_test"
   ]
  },
  {
   "cell_type": "code",
   "execution_count": 63,
   "metadata": {},
   "outputs": [
    {
     "data": {
      "text/plain": [
       "['dog_barking_1.wav',\n",
       " 'cat_164.wav',\n",
       " 'cat_165.wav',\n",
       " 'dog_barking_0.wav',\n",
       " 'dog_barking_2.wav',\n",
       " 'cat_167.wav',\n",
       " 'cat_166.wav',\n",
       " 'dog_barking_3.wav',\n",
       " 'cat_163.wav',\n",
       " 'dog_barking_4.wav']"
      ]
     },
     "execution_count": 63,
     "metadata": {},
     "output_type": "execute_result"
    }
   ],
   "source": [
    "test_path"
   ]
  },
  {
   "cell_type": "code",
   "execution_count": 64,
   "metadata": {},
   "outputs": [],
   "source": [
    "X_test = list(map(read_wav_files, [test_path]))"
   ]
  },
  {
   "cell_type": "code",
   "execution_count": 65,
   "metadata": {},
   "outputs": [],
   "source": [
    "X_test = X_test[0]"
   ]
  },
  {
   "cell_type": "code",
   "execution_count": 66,
   "metadata": {},
   "outputs": [
    {
     "name": "stdout",
     "output_type": "stream",
     "text": [
      "(185600,)\n",
      "(163566,)\n",
      "(182400,)\n",
      "(275203,)\n",
      "(190400,)\n"
     ]
    }
   ],
   "source": [
    "for x in X_test[0:5]:\n",
    "    print(x.shape)"
   ]
  },
  {
   "cell_type": "code",
   "execution_count": 69,
   "metadata": {},
   "outputs": [
    {
     "name": "stderr",
     "output_type": "stream",
     "text": [
      "/anaconda3/lib/python3.6/site-packages/sklearn/utils/validation.py:475: DataConversionWarning: Data with input dtype int16 was converted to float64 by the scale function.\n",
      "  warnings.warn(msg, DataConversionWarning)\n"
     ]
    }
   ],
   "source": [
    "new_X_test = []\n",
    "new_y_test = []\n",
    "segments = []\n",
    "running_sum = 0\n",
    "segment_starts = []\n",
    "for i in range(len(X_test)):\n",
    "    x = preprocessing.scale(X_test[i])\n",
    "    l = len(x)\n",
    "    segs = l // 16000\n",
    "    segments.append(segs)\n",
    "    segment_starts.append(running_sum)\n",
    "    running_sum += segs\n",
    "    # ignores final second fraction\n",
    "    for s in range(segs):\n",
    "        new_X_test.append(x[s*16000:(s+1)*16000])\n",
    "        new_y_test.append(y_test[i])\n",
    "        "
   ]
  },
  {
   "cell_type": "code",
   "execution_count": 70,
   "metadata": {},
   "outputs": [
    {
     "data": {
      "text/plain": [
       "[<matplotlib.lines.Line2D at 0x1a38724c18>]"
      ]
     },
     "execution_count": 70,
     "metadata": {},
     "output_type": "execute_result"
    },
    {
     "data": {
      "image/png": "[encoded data removed]",
      "text/plain": [
       "<Figure size 432x288 with 1 Axes>"
      ]
     },
     "metadata": {},
     "output_type": "display_data"
    }
   ],
   "source": [
    "plt.plot(new_X_test[4])"
   ]
  },
  {
   "cell_type": "code",
   "execution_count": 71,
   "metadata": {},
   "outputs": [
    {
     "data": {
      "text/plain": [
       "[<matplotlib.lines.Line2D at 0x1a38925ac8>]"
      ]
     },
     "execution_count": 71,
     "metadata": {},
     "output_type": "execute_result"
    },
    {
     "data": {
      "image/png": "[encoded data removed]",
      "text/plain": [
       "<Figure size 432x288 with 1 Axes>"
      ]
     },
     "metadata": {},
     "output_type": "display_data"
    }
   ],
   "source": [
    "plt.plot(new_X_test[5])"
   ]
  },
  {
   "cell_type": "code",
   "execution_count": 72,
   "metadata": {},
   "outputs": [
    {
     "data": {
      "text/plain": [
       "105"
      ]
     },
     "execution_count": 72,
     "metadata": {},
     "output_type": "execute_result"
    }
   ],
   "source": [
    "len(new_y_test)"
   ]
  },
  {
   "cell_type": "code",
   "execution_count": 73,
   "metadata": {},
   "outputs": [
    {
     "data": {
      "text/plain": [
       "105"
      ]
     },
     "execution_count": 73,
     "metadata": {},
     "output_type": "execute_result"
    }
   ],
   "source": [
    "len(new_X_test)"
   ]
  },
  {
   "cell_type": "code",
   "execution_count": 78,
   "metadata": {},
   "outputs": [],
   "source": [
    "reshaped_X_test = []\n",
    "for x in new_X_test:\n",
    "    q = x.reshape((16000,1))\n",
    "    q = np.expand_dims(q, axis = 0)\n",
    "    reshaped_X_test.append(q)"
   ]
  },
  {
   "cell_type": "code",
   "execution_count": 79,
   "metadata": {},
   "outputs": [],
   "source": [
    "probas = []\n",
    "for i in range(len(reshaped_X_test)):\n",
    "    p = model.predict(reshaped_X_test[i])\n",
    "    probas.append(p[0][0])"
   ]
  },
  {
   "cell_type": "code",
   "execution_count": 80,
   "metadata": {},
   "outputs": [],
   "source": [
    "preds = []\n",
    "for pr in probas:\n",
    "    if pr > 0.5:\n",
    "        preds.append(1)\n",
    "    else:\n",
    "        preds.append(0)"
   ]
  },
  {
   "cell_type": "code",
   "execution_count": 81,
   "metadata": {},
   "outputs": [
    {
     "name": "stdout",
     "output_type": "stream",
     "text": [
      "final test accuracy:  57.1 %\n"
     ]
    }
   ],
   "source": [
    "from sklearn.metrics import accuracy_score\n",
    "ac = accuracy_score(new_y_test, preds)*100\n",
    "print('final test accuracy: ', round(ac,1), '%') "
   ]
  },
  {
   "cell_type": "code",
   "execution_count": 82,
   "metadata": {},
   "outputs": [],
   "source": [
    "matches = []\n",
    "for i in range(len(segment_starts)):\n",
    "    m = np.mean(probas[segment_starts[i] : segment_starts[i] + segments[i]])\n",
    "    if m > 0.5:\n",
    "        over = 1\n",
    "    else:\n",
    "        over = 0\n",
    "    if over == y_test[i]:\n",
    "        matches.append(1)\n",
    "    else:\n",
    "        matches.append(0)"
   ]
  },
  {
   "cell_type": "code",
   "execution_count": 83,
   "metadata": {},
   "outputs": [
    {
     "data": {
      "text/plain": [
       "[1, 0, 0, 1, 1, 0, 0, 1, 1, 1]"
      ]
     },
     "execution_count": 83,
     "metadata": {},
     "output_type": "execute_result"
    }
   ],
   "source": [
    "matches"
   ]
  },
  {
   "cell_type": "code",
   "execution_count": 85,
   "metadata": {},
   "outputs": [
    {
     "name": "stdout",
     "output_type": "stream",
     "text": [
      "accuracy per audio clip: 60 %\n"
     ]
    }
   ],
   "source": [
    "print('accuracy per audio clip:', round(100*sum(matches)/len(matches)), '%')"
   ]
  }
 ],
 "metadata": {
  "kernelspec": {
   "display_name": "Python 3",
   "language": "python",
   "name": "python3"
  },
  "language_info": {
   "codemirror_mode": {
    "name": "ipython",
    "version": 3
   },
   "file_extension": ".py",
   "mimetype": "text/x-python",
   "name": "python",
   "nbconvert_exporter": "python",
   "pygments_lexer": "ipython3",
   "version": "3.6.5"
  }
 },
 "nbformat": 4,
 "nbformat_minor": 2
}
