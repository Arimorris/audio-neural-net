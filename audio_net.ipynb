{
 "cells": [
  {
   "cell_type": "code",
   "execution_count": 1,
   "metadata": {},
   "outputs": [
    {
     "name": "stderr",
     "output_type": "stream",
     "text": [
      "/anaconda3/lib/python3.6/site-packages/h5py/__init__.py:36: FutureWarning: Conversion of the second argument of issubdtype from `float` to `np.floating` is deprecated. In future, it will be treated as `np.float64 == np.dtype(float).type`.\n",
      "  from ._conv import register_converters as _register_converters\n",
      "Using TensorFlow backend.\n"
     ]
    }
   ],
   "source": [
    "import numpy as np # linear algebra\n",
    "import pandas as pd # data processing, CSV file I/O (e.g. pd.read_csv)\n",
    "from sklearn.model_selection import train_test_split\n",
    "from sklearn import preprocessing\n",
    "import scipy.io.wavfile as sci_wav  # Open wav files\n",
    "import os  # Manipulate files\n",
    "# import warnings  # Warning removal\n",
    "# warnings.filterwarnings('ignore')\n",
    "from pickle import dump\n",
    "from pickle import load\n",
    "from keras.callbacks import ModelCheckpoint\n",
    "from keras.models import load_model\n",
    "from keras import models\n",
    "from keras import layers\n",
    "from keras.layers import Dropout, Activation"
   ]
  },
  {
   "cell_type": "code",
   "execution_count": 2,
   "metadata": {},
   "outputs": [],
   "source": [
    "ROOT_DIR = '/Users/DM/FS/mod4/proj4/audio-cats-and-dogs/cats_dogs/'\n",
    "X_path = os.listdir(ROOT_DIR)\n",
    "y = [0 if 'cat' in f else 1 for f in X_path]  # change y to int values"
   ]
  },
  {
   "cell_type": "code",
   "execution_count": 3,
   "metadata": {},
   "outputs": [
    {
     "data": {
      "text/plain": [
       "['cat_74.wav',\n",
       " 'dog_barking_63.wav',\n",
       " 'cat_60.wav',\n",
       " 'dog_barking_77.wav',\n",
       " 'cat_48.wav']"
      ]
     },
     "execution_count": 3,
     "metadata": {},
     "output_type": "execute_result"
    }
   ],
   "source": [
    "X_path[0:5]"
   ]
  },
  {
   "cell_type": "code",
   "execution_count": 4,
   "metadata": {},
   "outputs": [
    {
     "data": {
      "text/plain": [
       "[0, 1, 0, 1, 0]"
      ]
     },
     "execution_count": 4,
     "metadata": {},
     "output_type": "execute_result"
    }
   ],
   "source": [
    "y[0:5]"
   ]
  },
  {
   "cell_type": "code",
   "execution_count": 5,
   "metadata": {},
   "outputs": [],
   "source": [
    "X_train, X_val, y_train, y_val = train_test_split(X_path, y, test_size=0.25)"
   ]
  },
  {
   "cell_type": "code",
   "execution_count": 6,
   "metadata": {},
   "outputs": [
    {
     "name": "stdout",
     "output_type": "stream",
     "text": [
      "in X, there is 164 cats and 113 dogs\n",
      "in X_train, there is 115 cats and 92 dogs\n",
      "in X_val, there is 49 cats and 21 dogs\n"
     ]
    }
   ],
   "source": [
    "print(\"in X, there is {} cats and {} dogs\".format(len(y) - sum(y), sum(y)))\n",
    "print(\"in X_train, there is {} cats and {} dogs\".format(len(y_train) - sum(y_train), sum(y_train)))\n",
    "print(\"in X_val, there is {} cats and {} dogs\".format(len(y_val) - sum(y_val), sum(y_val)))"
   ]
  },
  {
   "cell_type": "code",
   "execution_count": 7,
   "metadata": {},
   "outputs": [
    {
     "name": "stdout",
     "output_type": "stream",
     "text": [
      "[array([ 124,  107,    7, ..., -545, -494, -529], dtype=int16)]\n",
      "[array([ 124,  107,    7, ..., -545, -494, -529], dtype=int16), array([-1028, -1039, -1064, ...,     6,    38,     2], dtype=int16)]\n"
     ]
    }
   ],
   "source": [
    "def read_wav_files(wav_files):\n",
    "    '''Returns a list of audio waves\n",
    "    Params:\n",
    "        wav_files: List of .wav paths\n",
    "    \n",
    "    Returns:\n",
    "        List of audio signals\n",
    "    '''\n",
    "    if not isinstance(wav_files, list):\n",
    "        wav_files = [wav_files]\n",
    "    return [sci_wav.read(ROOT_DIR + f)[1] for f in wav_files]\n",
    "\n",
    "print(read_wav_files('cat_1.wav'))\n",
    "print(read_wav_files(['cat_1.wav', 'cat_2.wav']))"
   ]
  },
  {
   "cell_type": "code",
   "execution_count": 8,
   "metadata": {},
   "outputs": [],
   "source": [
    "X_train, X_val = map(read_wav_files, [X_train, X_val])"
   ]
  },
  {
   "cell_type": "code",
   "execution_count": 9,
   "metadata": {},
   "outputs": [
    {
     "data": {
      "text/plain": [
       "[array([  0,   0,   0, ..., -15, -38, -44], dtype=int16),\n",
       " array([ 70, 150,  71, ...,  66,  41,  29], dtype=int16),\n",
       " array([  0,  -1,   0, ..., 169, 185, 193], dtype=int16),\n",
       " array([  0,   0,   0, ...,  96,  93, 134], dtype=int16),\n",
       " array([ 51,  68,  44, ...,  97, 130, 127], dtype=int16)]"
      ]
     },
     "execution_count": 9,
     "metadata": {},
     "output_type": "execute_result"
    }
   ],
   "source": [
    "X_train[0:5]"
   ]
  },
  {
   "cell_type": "code",
   "execution_count": 10,
   "metadata": {},
   "outputs": [
    {
     "name": "stdout",
     "output_type": "stream",
     "text": [
      "(14773,)\n",
      "(71378,)\n",
      "(57959,)\n",
      "(17280,)\n",
      "(54400,)\n"
     ]
    }
   ],
   "source": [
    "for x in X_train[0:5]:\n",
    "    print(x.shape)"
   ]
  },
  {
   "cell_type": "code",
   "execution_count": 11,
   "metadata": {},
   "outputs": [],
   "source": [
    "ys = y_train[0:4]"
   ]
  },
  {
   "cell_type": "code",
   "execution_count": 66,
   "metadata": {},
   "outputs": [
    {
     "data": {
      "text/plain": [
       "[<matplotlib.lines.Line2D at 0x1a3dbf90b8>]"
      ]
     },
     "execution_count": 66,
     "metadata": {},
     "output_type": "execute_result"
    },
    {
     "data": {
      "image/png": "[encoded data removed]",
      "text/plain": [
       "<Figure size 1152x504 with 4 Axes>"
      ]
     },
     "metadata": {},
     "output_type": "display_data"
    }
   ],
   "source": [
    "import matplotlib.pyplot as plt\n",
    "fig, axs = plt.subplots(2, 2, figsize=(16,7))\n",
    "axs[0][0].set_title(ys[0])\n",
    "axs[0][0].plot(X_train[0][5000:5500])\n",
    "axs[0][1].set_title(ys[1])\n",
    "axs[0][1].plot(X_train[1])\n",
    "axs[1][0].set_title(ys[2])\n",
    "axs[1][0].plot(X_train[2])\n",
    "axs[1][1].set_title(ys[3])\n",
    "axs[1][1].plot(X_train[3])"
   ]
  },
  {
   "cell_type": "code",
   "execution_count": 13,
   "metadata": {},
   "outputs": [
    {
     "data": {
      "text/plain": [
       "32390"
      ]
     },
     "execution_count": 13,
     "metadata": {},
     "output_type": "execute_result"
    }
   ],
   "source": [
    "max(X_train[1])"
   ]
  },
  {
   "cell_type": "code",
   "execution_count": 14,
   "metadata": {},
   "outputs": [
    {
     "data": {
      "text/plain": [
       "array([-109, -269, -352, -407, -415, -419, -433, -398, -367, -353, -305,\n",
       "       -183,  -47,   51,  164,  264,  334,  346,  321,  269,  191,  118,\n",
       "        115,  140,  152,  164,  170,  156,  117,   18,  -68,  -80, -107,\n",
       "       -167, -204, -211, -174, -145, -171, -104,  -44,  -15,   44,  127,\n",
       "        137,   94,   66,   -1,  -69, -141], dtype=int16)"
      ]
     },
     "execution_count": 14,
     "metadata": {},
     "output_type": "execute_result"
    }
   ],
   "source": [
    "X_train[5][0:50]"
   ]
  },
  {
   "cell_type": "code",
   "execution_count": 15,
   "metadata": {},
   "outputs": [
    {
     "data": {
      "text/plain": [
       "-32736"
      ]
     },
     "execution_count": 15,
     "metadata": {},
     "output_type": "execute_result"
    }
   ],
   "source": [
    "min(X_train[1])"
   ]
  },
  {
   "cell_type": "code",
   "execution_count": 16,
   "metadata": {},
   "outputs": [],
   "source": [
    "def get_long_vectors(X, y):\n",
    "    # Create two long 1D arrays with all the audio waves concatenated one after the other\n",
    "    # (one for the cats, the other for the dogs)\n",
    "    X_cat = np.concatenate([_x for _x, _y in zip(X, y) if _y == 0])\n",
    "    X_dog = np.concatenate([_x for _x, _y in zip(X, y) if _y == 1])\n",
    "    # Apply normalization (zero mean, std = 1)\n",
    "    X_cat = preprocessing.scale(X_cat)\n",
    "    X_dog = preprocessing.scale(X_dog)\n",
    "    return X_cat, X_dog"
   ]
  },
  {
   "cell_type": "code",
   "execution_count": 17,
   "metadata": {},
   "outputs": [],
   "source": [
    "def get_next_nonsilence(_X, sample_len, idx):\n",
    "    # get a random starting point in the big array of sound values of for the correct animal\n",
    "    # but make sure it is not too close to the end to fit a whole observation.  This seems to be an \n",
    "    # augmentation strategy: since the observation starting points are random, there may be overlap\n",
    "    # among observations, but this is good: with enough epochs we'll get a big sample of randomly\n",
    "    # shifted 1-second segments.\n",
    "    x_idx = np.random.randint(len(_X) - sample_len)\n",
    "    # the following is to check whether the 1-second observation contains only low-level noise\n",
    "    # (i.e. the dog or cat is not making sound during that second).  The model should be using these\n",
    "    # in neither training nor validation sets.  Predicting \"dog\" or \"cat\" from a second of silence is\n",
    "    # not what we want the model to do.\n",
    "    silence = True\n",
    "    while silence == True:\n",
    "        if max(_X[x_idx : x_idx + sample_len]) > 0.4:\n",
    "            silence = False\n",
    "            return x_idx\n",
    "        else:\n",
    "            x_idx = np.random.randint(len(_X) - sample_len)"
   ]
  },
  {
   "cell_type": "code",
   "execution_count": 18,
   "metadata": {},
   "outputs": [],
   "source": [
    "def cats_and_dogs_gen(X = X_train, y = y_train, n_samples=20, sample_len=16000):\n",
    "# n_samples: amount of samples per batch\n",
    "# sample_len: size of the samples in a batch\n",
    "    while True:\n",
    "    # making the loop infininte so that the generator just keeps making more batches (required for keras)\n",
    "        X_cat, X_dog = get_long_vectors(X, y)\n",
    "        # find the higher of (number of cats,  number of dogs) and divide that by the batch size to get number\n",
    "        # of batches needed, then loop through this number, creating all the batches (or rather, yielding\n",
    "        # them one at a time as a generator)\n",
    "        for _ in range(int(max(sum(y), len(y) - sum(y)) / n_samples)):\n",
    "            # set up each batch\n",
    "            y_batch = np.zeros(n_samples)\n",
    "            X_batch = np.zeros((n_samples, sample_len))\n",
    "            # for each observation in batch\n",
    "            for idx in range(n_samples):\n",
    "                # alternate zeros and ones for the y value of the batch\n",
    "                y_batch[idx] = idx % 2\n",
    "                # assign a source of sound values depending on the target already set (0 or 1) for the current batch\n",
    "                _X = X_cat if y_batch[idx] == 0 else X_dog\n",
    "                x_idx = get_next_nonsilence(_X, sample_len, idx) \n",
    "                X_batch[idx] = _X[x_idx : x_idx + sample_len]\n",
    "            yield (X_batch.reshape(n_samples, sample_len, 1),\n",
    "                   y_batch.reshape(-1, 1) )"
   ]
  },
  {
   "cell_type": "code",
   "execution_count": 19,
   "metadata": {},
   "outputs": [],
   "source": [
    "# x, y = next(cats_and_dogs_gen())"
   ]
  },
  {
   "cell_type": "code",
   "execution_count": 20,
   "metadata": {},
   "outputs": [],
   "source": [
    "# x.shape"
   ]
  },
  {
   "cell_type": "code",
   "execution_count": 21,
   "metadata": {},
   "outputs": [],
   "source": [
    "# plt.plot(x[11, : ,0])\n",
    "# plt.show()"
   ]
  },
  {
   "cell_type": "code",
   "execution_count": 22,
   "metadata": {},
   "outputs": [],
   "source": [
    "model = models.Sequential()\n",
    "model.add(layers.Conv1D(padding = 'same', filters = 10, kernel_size = 3, strides = 2, input_shape = (16000, 1)))\n",
    "model.add(layers.BatchNormalization())\n",
    "model.add(Activation(\"relu\"))\n",
    "# model.add(Dropout(0.2))\n",
    "for _ in range(9):\n",
    "    model.add(layers.Conv1D(padding = 'same', filters = 10, kernel_size = 3, strides = 2))\n",
    "    model.add(layers.BatchNormalization())\n",
    "    model.add(Activation(\"relu\"))\n",
    "#     model.add(Dropout(0.2))\n",
    "model.add(layers.GlobalAveragePooling1D())\n",
    "# model.add(layers.Flatten())\n",
    "model.add(layers.Dense(1, activation = 'sigmoid'))"
   ]
  },
  {
   "cell_type": "code",
   "execution_count": 23,
   "metadata": {},
   "outputs": [],
   "source": [
    "# model = load_model('audio12.h5')\n",
    "# model.load_weights(\"audio3_best.hdf5\")"
   ]
  },
  {
   "cell_type": "code",
   "execution_count": 24,
   "metadata": {},
   "outputs": [],
   "source": [
    "model.compile(optimizer='sgd',\n",
    "              loss='binary_crossentropy',\n",
    "              metrics=['accuracy'])"
   ]
  },
  {
   "cell_type": "code",
   "execution_count": 25,
   "metadata": {},
   "outputs": [],
   "source": [
    "filepath = \"audio99_best.hdf5\"\n",
    "checkpoint = ModelCheckpoint(filepath, monitor='val_acc', verbose=1, save_best_only=True, mode='max')\n",
    "callbacks_list = [checkpoint]"
   ]
  },
  {
   "cell_type": "code",
   "execution_count": 26,
   "metadata": {},
   "outputs": [
    {
     "name": "stdout",
     "output_type": "stream",
     "text": [
      "_________________________________________________________________\n",
      "Layer (type)                 Output Shape              Param #   \n",
      "=================================================================\n",
      "conv1d_1 (Conv1D)            (None, 8000, 10)          40        \n",
      "_________________________________________________________________\n",
      "batch_normalization_1 (Batch (None, 8000, 10)          40        \n",
      "_________________________________________________________________\n",
      "activation_1 (Activation)    (None, 8000, 10)          0         \n",
      "_________________________________________________________________\n",
      "conv1d_2 (Conv1D)            (None, 4000, 10)          310       \n",
      "_________________________________________________________________\n",
      "batch_normalization_2 (Batch (None, 4000, 10)          40        \n",
      "_________________________________________________________________\n",
      "activation_2 (Activation)    (None, 4000, 10)          0         \n",
      "_________________________________________________________________\n",
      "conv1d_3 (Conv1D)            (None, 2000, 10)          310       \n",
      "_________________________________________________________________\n",
      "batch_normalization_3 (Batch (None, 2000, 10)          40        \n",
      "_________________________________________________________________\n",
      "activation_3 (Activation)    (None, 2000, 10)          0         \n",
      "_________________________________________________________________\n",
      "conv1d_4 (Conv1D)            (None, 1000, 10)          310       \n",
      "_________________________________________________________________\n",
      "batch_normalization_4 (Batch (None, 1000, 10)          40        \n",
      "_________________________________________________________________\n",
      "activation_4 (Activation)    (None, 1000, 10)          0         \n",
      "_________________________________________________________________\n",
      "conv1d_5 (Conv1D)            (None, 500, 10)           310       \n",
      "_________________________________________________________________\n",
      "batch_normalization_5 (Batch (None, 500, 10)           40        \n",
      "_________________________________________________________________\n",
      "activation_5 (Activation)    (None, 500, 10)           0         \n",
      "_________________________________________________________________\n",
      "conv1d_6 (Conv1D)            (None, 250, 10)           310       \n",
      "_________________________________________________________________\n",
      "batch_normalization_6 (Batch (None, 250, 10)           40        \n",
      "_________________________________________________________________\n",
      "activation_6 (Activation)    (None, 250, 10)           0         \n",
      "_________________________________________________________________\n",
      "conv1d_7 (Conv1D)            (None, 125, 10)           310       \n",
      "_________________________________________________________________\n",
      "batch_normalization_7 (Batch (None, 125, 10)           40        \n",
      "_________________________________________________________________\n",
      "activation_7 (Activation)    (None, 125, 10)           0         \n",
      "_________________________________________________________________\n",
      "conv1d_8 (Conv1D)            (None, 63, 10)            310       \n",
      "_________________________________________________________________\n",
      "batch_normalization_8 (Batch (None, 63, 10)            40        \n",
      "_________________________________________________________________\n",
      "activation_8 (Activation)    (None, 63, 10)            0         \n",
      "_________________________________________________________________\n",
      "conv1d_9 (Conv1D)            (None, 32, 10)            310       \n",
      "_________________________________________________________________\n",
      "batch_normalization_9 (Batch (None, 32, 10)            40        \n",
      "_________________________________________________________________\n",
      "activation_9 (Activation)    (None, 32, 10)            0         \n",
      "_________________________________________________________________\n",
      "conv1d_10 (Conv1D)           (None, 16, 10)            310       \n",
      "_________________________________________________________________\n",
      "batch_normalization_10 (Batc (None, 16, 10)            40        \n",
      "_________________________________________________________________\n",
      "activation_10 (Activation)   (None, 16, 10)            0         \n",
      "_________________________________________________________________\n",
      "global_average_pooling1d_1 ( (None, 10)                0         \n",
      "_________________________________________________________________\n",
      "dense_1 (Dense)              (None, 1)                 11        \n",
      "=================================================================\n",
      "Total params: 3,241\n",
      "Trainable params: 3,041\n",
      "Non-trainable params: 200\n",
      "_________________________________________________________________\n"
     ]
    }
   ],
   "source": [
    "model.summary()"
   ]
  },
  {
   "cell_type": "code",
   "execution_count": 27,
   "metadata": {},
   "outputs": [
    {
     "name": "stdout",
     "output_type": "stream",
     "text": [
      "Epoch 1/15\n"
     ]
    },
    {
     "name": "stderr",
     "output_type": "stream",
     "text": [
      "/anaconda3/lib/python3.6/site-packages/sklearn/utils/validation.py:475: DataConversionWarning: Data with input dtype int16 was converted to float64 by the scale function.\n",
      "  warnings.warn(msg, DataConversionWarning)\n"
     ]
    },
    {
     "name": "stdout",
     "output_type": "stream",
     "text": [
      "100/100 [==============================] - 117s 1s/step - loss: 0.7048 - acc: 0.5075 - val_loss: 0.6922 - val_acc: 0.5290\n",
      "\n",
      "Epoch 00001: val_acc improved from -inf to 0.52900, saving model to audio99_best.hdf5\n",
      "Epoch 2/15\n",
      "100/100 [==============================] - 113s 1s/step - loss: 0.6570 - acc: 0.6140 - val_loss: 0.6732 - val_acc: 0.5960\n",
      "\n",
      "Epoch 00002: val_acc improved from 0.52900 to 0.59600, saving model to audio99_best.hdf5\n",
      "Epoch 3/15\n",
      "100/100 [==============================] - 113s 1s/step - loss: 0.6170 - acc: 0.7390 - val_loss: 0.6403 - val_acc: 0.6920\n",
      "\n",
      "Epoch 00003: val_acc improved from 0.59600 to 0.69200, saving model to audio99_best.hdf5\n",
      "Epoch 4/15\n",
      "100/100 [==============================] - 114s 1s/step - loss: 0.5426 - acc: 0.8055 - val_loss: 0.6159 - val_acc: 0.6825\n",
      "\n",
      "Epoch 00004: val_acc did not improve from 0.69200\n",
      "Epoch 5/15\n",
      "100/100 [==============================] - 114s 1s/step - loss: 0.5086 - acc: 0.7840 - val_loss: 0.5648 - val_acc: 0.7345\n",
      "\n",
      "Epoch 00005: val_acc improved from 0.69200 to 0.73450, saving model to audio99_best.hdf5\n",
      "Epoch 6/15\n",
      "100/100 [==============================] - 114s 1s/step - loss: 0.4523 - acc: 0.8250 - val_loss: 0.5615 - val_acc: 0.7330\n",
      "\n",
      "Epoch 00006: val_acc did not improve from 0.73450\n",
      "Epoch 7/15\n",
      "100/100 [==============================] - 114s 1s/step - loss: 0.4028 - acc: 0.8300 - val_loss: 0.7201 - val_acc: 0.6865\n",
      "\n",
      "Epoch 00007: val_acc did not improve from 0.73450\n",
      "Epoch 8/15\n",
      "100/100 [==============================] - 114s 1s/step - loss: 0.3981 - acc: 0.8265 - val_loss: 0.5493 - val_acc: 0.7560\n",
      "\n",
      "Epoch 00008: val_acc improved from 0.73450 to 0.75600, saving model to audio99_best.hdf5\n",
      "Epoch 9/15\n",
      "100/100 [==============================] - 115s 1s/step - loss: 0.3584 - acc: 0.8480 - val_loss: 0.5263 - val_acc: 0.7635\n",
      "\n",
      "Epoch 00009: val_acc improved from 0.75600 to 0.76350, saving model to audio99_best.hdf5\n",
      "Epoch 10/15\n",
      "100/100 [==============================] - 115s 1s/step - loss: 0.3557 - acc: 0.8445 - val_loss: 0.5691 - val_acc: 0.7415\n",
      "\n",
      "Epoch 00010: val_acc did not improve from 0.76350\n",
      "Epoch 11/15\n",
      "100/100 [==============================] - 116s 1s/step - loss: 0.3377 - acc: 0.8575 - val_loss: 0.6271 - val_acc: 0.7245\n",
      "\n",
      "Epoch 00011: val_acc did not improve from 0.76350\n",
      "Epoch 12/15\n",
      "100/100 [==============================] - 115s 1s/step - loss: 0.3187 - acc: 0.8625 - val_loss: 0.6124 - val_acc: 0.7390\n",
      "\n",
      "Epoch 00012: val_acc did not improve from 0.76350\n",
      "Epoch 13/15\n",
      "100/100 [==============================] - 115s 1s/step - loss: 0.3088 - acc: 0.8695 - val_loss: 0.6230 - val_acc: 0.7405\n",
      "\n",
      "Epoch 00013: val_acc did not improve from 0.76350\n",
      "Epoch 14/15\n",
      "100/100 [==============================] - 117s 1s/step - loss: 0.2740 - acc: 0.8860 - val_loss: 0.7555 - val_acc: 0.6730\n",
      "\n",
      "Epoch 00014: val_acc did not improve from 0.76350\n",
      "Epoch 15/15\n",
      "100/100 [==============================] - 119s 1s/step - loss: 0.3111 - acc: 0.8635 - val_loss: 0.6729 - val_acc: 0.7310\n",
      "\n",
      "Epoch 00015: val_acc did not improve from 0.76350\n"
     ]
    }
   ],
   "source": [
    "history = model.fit_generator(\n",
    "      cats_and_dogs_gen(),\n",
    "      epochs = 15, steps_per_epoch = 100, validation_steps = 100,\n",
    "      validation_data = cats_and_dogs_gen(X = X_val, y = y_val), callbacks = callbacks_list)"
   ]
  },
  {
   "cell_type": "code",
   "execution_count": 28,
   "metadata": {},
   "outputs": [],
   "source": [
    "model.save('audio99.h5')"
   ]
  },
  {
   "cell_type": "code",
   "execution_count": 29,
   "metadata": {},
   "outputs": [
    {
     "data": {
      "image/png": "[encoded data removed]",
      "text/plain": [
       "<Figure size 432x288 with 1 Axes>"
      ]
     },
     "metadata": {},
     "output_type": "display_data"
    }
   ],
   "source": [
    "# summarize history for accuracy\n",
    "plt.plot(history.history['acc'])\n",
    "plt.plot(history.history['val_acc'])\n",
    "plt.title('model accuracy')\n",
    "plt.ylabel('accuracy')\n",
    "plt.xlabel('epoch')\n",
    "plt.legend(['train', 'validation'], loc='upper left')\n",
    "plt.show()"
   ]
  },
  {
   "cell_type": "code",
   "execution_count": 47,
   "metadata": {},
   "outputs": [],
   "source": [
    "TEST_DIR = '/Users/DM/FS/mod4/proj4/audio-cats-and-dogs/test/'\n",
    "test_path = os.listdir(TEST_DIR)\n",
    "y_test = [0 if 'cat' in f else 1 for f in test_path]  # change y to int values"
   ]
  },
  {
   "cell_type": "code",
   "execution_count": 48,
   "metadata": {},
   "outputs": [
    {
     "data": {
      "text/plain": [
       "[1, 0, 0, 1, 1, 0, 0, 1, 0, 1]"
      ]
     },
     "execution_count": 48,
     "metadata": {},
     "output_type": "execute_result"
    }
   ],
   "source": [
    "y_test"
   ]
  },
  {
   "cell_type": "code",
   "execution_count": 49,
   "metadata": {},
   "outputs": [
    {
     "data": {
      "text/plain": [
       "['dog_barking_1.wav',\n",
       " 'cat_164.wav',\n",
       " 'cat_165.wav',\n",
       " 'dog_barking_0.wav',\n",
       " 'dog_barking_2.wav',\n",
       " 'cat_167.wav',\n",
       " 'cat_166.wav',\n",
       " 'dog_barking_3.wav',\n",
       " 'cat_163.wav',\n",
       " 'dog_barking_4.wav']"
      ]
     },
     "execution_count": 49,
     "metadata": {},
     "output_type": "execute_result"
    }
   ],
   "source": [
    "test_path"
   ]
  },
  {
   "cell_type": "code",
   "execution_count": 50,
   "metadata": {},
   "outputs": [],
   "source": [
    "X_test = list(map(read_wav_files, [test_path]))"
   ]
  },
  {
   "cell_type": "code",
   "execution_count": 51,
   "metadata": {},
   "outputs": [],
   "source": [
    "X_test = X_test[0]"
   ]
  },
  {
   "cell_type": "code",
   "execution_count": 52,
   "metadata": {},
   "outputs": [
    {
     "name": "stdout",
     "output_type": "stream",
     "text": [
      "(185600,)\n",
      "(163566,)\n",
      "(182400,)\n",
      "(275203,)\n",
      "(190400,)\n"
     ]
    }
   ],
   "source": [
    "for x in X_test[0:5]:\n",
    "    print(x.shape)"
   ]
  },
  {
   "cell_type": "code",
   "execution_count": 53,
   "metadata": {},
   "outputs": [
    {
     "name": "stderr",
     "output_type": "stream",
     "text": [
      "/anaconda3/lib/python3.6/site-packages/sklearn/utils/validation.py:475: DataConversionWarning: Data with input dtype int16 was converted to float64 by the scale function.\n",
      "  warnings.warn(msg, DataConversionWarning)\n"
     ]
    }
   ],
   "source": [
    "new_X_test = []\n",
    "new_y_test = []\n",
    "segments = []\n",
    "running_sum = 0\n",
    "segment_starts = []\n",
    "for i in range(len(X_test)):\n",
    "    x = preprocessing.scale(X_test[i])\n",
    "    l = len(x)\n",
    "    segs = l // 16000\n",
    "    segments.append(segs)\n",
    "    segment_starts.append(running_sum)\n",
    "    running_sum += segs\n",
    "    # ignores final second fraction\n",
    "    for s in range(segs):\n",
    "        new_X_test.append(x[s*16000:(s+1)*16000])\n",
    "        new_y_test.append(y_test[i])\n",
    "        "
   ]
  },
  {
   "cell_type": "code",
   "execution_count": 54,
   "metadata": {},
   "outputs": [
    {
     "data": {
      "text/plain": [
       "[<matplotlib.lines.Line2D at 0x113bea390>]"
      ]
     },
     "execution_count": 54,
     "metadata": {},
     "output_type": "execute_result"
    },
    {
     "data": {
      "image/png": "[encoded data removed]",
      "text/plain": [
       "<Figure size 432x288 with 1 Axes>"
      ]
     },
     "metadata": {},
     "output_type": "display_data"
    }
   ],
   "source": [
    "plt.plot(new_X_test[4])"
   ]
  },
  {
   "cell_type": "code",
   "execution_count": 55,
   "metadata": {},
   "outputs": [
    {
     "data": {
      "text/plain": [
       "[<matplotlib.lines.Line2D at 0x1a3e4119e8>]"
      ]
     },
     "execution_count": 55,
     "metadata": {},
     "output_type": "execute_result"
    },
    {
     "data": {
      "image/png": "[encoded data removed]",
      "text/plain": [
       "<Figure size 432x288 with 1 Axes>"
      ]
     },
     "metadata": {},
     "output_type": "display_data"
    }
   ],
   "source": [
    "plt.plot(new_X_test[5])"
   ]
  },
  {
   "cell_type": "code",
   "execution_count": 56,
   "metadata": {},
   "outputs": [
    {
     "data": {
      "text/plain": [
       "105"
      ]
     },
     "execution_count": 56,
     "metadata": {},
     "output_type": "execute_result"
    }
   ],
   "source": [
    "len(new_y_test)"
   ]
  },
  {
   "cell_type": "code",
   "execution_count": 57,
   "metadata": {},
   "outputs": [
    {
     "data": {
      "text/plain": [
       "105"
      ]
     },
     "execution_count": 57,
     "metadata": {},
     "output_type": "execute_result"
    }
   ],
   "source": [
    "len(new_X_test)"
   ]
  },
  {
   "cell_type": "code",
   "execution_count": 58,
   "metadata": {},
   "outputs": [],
   "source": [
    "reshaped_X_test = []\n",
    "for x in new_X_test:\n",
    "    q = x.reshape((16000,1))\n",
    "    q = np.expand_dims(q, axis = 0)\n",
    "    reshaped_X_test.append(q)"
   ]
  },
  {
   "cell_type": "code",
   "execution_count": 59,
   "metadata": {},
   "outputs": [],
   "source": [
    "probas = []\n",
    "for i in range(len(reshaped_X_test)):\n",
    "    p = model.predict(reshaped_X_test[i])\n",
    "    probas.append(p[0][0])"
   ]
  },
  {
   "cell_type": "code",
   "execution_count": 60,
   "metadata": {},
   "outputs": [],
   "source": [
    "preds = []\n",
    "for pr in probas:\n",
    "    if pr > 0.5:\n",
    "        preds.append(1)\n",
    "    else:\n",
    "        preds.append(0)"
   ]
  },
  {
   "cell_type": "code",
   "execution_count": 61,
   "metadata": {},
   "outputs": [
    {
     "name": "stdout",
     "output_type": "stream",
     "text": [
      "final test accuracy:  71.4 %\n"
     ]
    }
   ],
   "source": [
    "from sklearn.metrics import accuracy_score\n",
    "ac = accuracy_score(new_y_test, preds)*100\n",
    "print('final test accuracy: ', round(ac,1), '%') "
   ]
  },
  {
   "cell_type": "code",
   "execution_count": 62,
   "metadata": {},
   "outputs": [],
   "source": [
    "matches = []\n",
    "over = []\n",
    "for i in range(len(segment_starts)):\n",
    "    m = np.mean(probas[segment_starts[i] : segment_starts[i] + segments[i]])\n",
    "    if m > 0.5:\n",
    "        o = 1\n",
    "    else:\n",
    "        o = 0\n",
    "    over.append(o)\n",
    "    if o == y_test[i]:\n",
    "        matches.append(1)\n",
    "    else:\n",
    "        matches.append(0)"
   ]
  },
  {
   "cell_type": "code",
   "execution_count": 63,
   "metadata": {},
   "outputs": [
    {
     "data": {
      "text/plain": [
       "[1, 1, 0, 1, 1, 0, 0, 1, 1, 1]"
      ]
     },
     "execution_count": 63,
     "metadata": {},
     "output_type": "execute_result"
    }
   ],
   "source": [
    "matches"
   ]
  },
  {
   "cell_type": "code",
   "execution_count": 64,
   "metadata": {},
   "outputs": [
    {
     "name": "stdout",
     "output_type": "stream",
     "text": [
      "accuracy per audio clip: 70 %\n"
     ]
    }
   ],
   "source": [
    "print('accuracy per audio clip:', round(100*sum(matches)/len(matches)), '%')"
   ]
  },
  {
   "cell_type": "code",
   "execution_count": 65,
   "metadata": {},
   "outputs": [
    {
     "data": {
      "text/plain": [
       "[1, 0, 1, 1, 1, 1, 1, 1, 0, 1]"
      ]
     },
     "execution_count": 65,
     "metadata": {},
     "output_type": "execute_result"
    }
   ],
   "source": [
    "over"
   ]
  },
  {
   "cell_type": "code",
   "execution_count": null,
   "metadata": {},
   "outputs": [],
   "source": []
  }
 ],
 "metadata": {
  "kernelspec": {
   "display_name": "Python 3",
   "language": "python",
   "name": "python3"
  },
  "language_info": {
   "codemirror_mode": {
    "name": "ipython",
    "version": 3
   },
   "file_extension": ".py",
   "mimetype": "text/x-python",
   "name": "python",
   "nbconvert_exporter": "python",
   "pygments_lexer": "ipython3",
   "version": "3.6.5"
  }
 },
 "nbformat": 4,
 "nbformat_minor": 2
}
